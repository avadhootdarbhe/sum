{
 "cells": [
  {
   "cell_type": "markdown",
   "metadata": {
    "application/vnd.databricks.v1+cell": {
     "cellMetadata": {
      "byteLimit": 2048000,
      "rowLimit": 10000
     },
     "inputWidgets": {},
     "nuid": "285e82ad-978b-4c86-aa8c-c2e8bdaf3950",
     "showTitle": false,
     "tableResultSettingsMap": {},
     "title": ""
    }
   },
   "source": [
    "### Imports"
   ]
  },
  {
   "cell_type": "code",
   "execution_count": 0,
   "metadata": {
    "application/vnd.databricks.v1+cell": {
     "cellMetadata": {
      "byteLimit": 2048000,
      "rowLimit": 10000
     },
     "inputWidgets": {},
     "nuid": "42be8c63-da3b-401d-9a64-cf1e6f72a90d",
     "showTitle": false,
     "tableResultSettingsMap": {},
     "title": ""
    }
   },
   "outputs": [],
   "source": [
    "from pyspark.sql.functions import *\n",
    "from pyspark.sql.types import *\n",
    "from datetime import datetime\n",
    "import json"
   ]
  },
  {
   "cell_type": "markdown",
   "metadata": {
    "application/vnd.databricks.v1+cell": {
     "cellMetadata": {
      "byteLimit": 2048000,
      "rowLimit": 10000
     },
     "inputWidgets": {},
     "nuid": "71368d4a-9578-41cc-b67e-15b84521bff2",
     "showTitle": false,
     "tableResultSettingsMap": {},
     "title": ""
    }
   },
   "source": [
    "### Read Raw Tables"
   ]
  },
  {
   "cell_type": "code",
   "execution_count": 0,
   "metadata": {
    "application/vnd.databricks.v1+cell": {
     "cellMetadata": {
      "byteLimit": 2048000,
      "rowLimit": 10000
     },
     "inputWidgets": {},
     "nuid": "1c442a51-340b-4243-94f3-da4349d2b96f",
     "showTitle": false,
     "tableResultSettingsMap": {},
     "title": ""
    }
   },
   "outputs": [],
   "source": [
    "supplier_schema = StructType([\n",
    "    StructField(\"supplier_id\", StringType()),\n",
    "    StructField(\"supplier_name\", StringType()),\n",
    "    StructField(\"contact_name\", StringType()),\n",
    "    StructField(\"contact_email\", StringType()),\n",
    "    StructField(\"phone_number\", StringType()),\n",
    "    StructField(\"country\", StringType()),\n",
    "    StructField(\"registration_date\", StringType()),\n",
    "    StructField(\"credit_score\", StringType()),\n",
    "    StructField(\"supplier_type\", StringType()),\n",
    "    StructField(\"industry\", StringType()),\n",
    "    StructField(\"annual_revenue\", StringType()),\n",
    "    StructField(\"tax_id\", StringType()),\n",
    "    StructField(\"rating\", StringType()),\n",
    "    StructField(\"is_active\", StringType()),\n",
    "    StructField(\"supplier_gender\", StringType())\n",
    "])\n",
    "\n",
    "purchase_orders_schema = StructType([\n",
    "    StructField(\"po_id\", StringType(), True),                \n",
    "    StructField(\"supplier_id\", StringType(), True),          \n",
    "    StructField(\"po_number\", StringType(), True),            \n",
    "    StructField(\"po_date\", StringType(), True),              \n",
    "    StructField(\"currency\", StringType(), True),             \n",
    "    StructField(\"total_amount\", StringType(), True),         \n",
    "    StructField(\"payment_terms\", StringType(), True),        \n",
    "    StructField(\"approval_status\", StringType(), True),      \n",
    "    StructField(\"delivery_country\", StringType(), True),     \n",
    "    StructField(\"buyer_name\", StringType(), True),           \n",
    "    StructField(\"freight_charges\", StringType(), True),      \n",
    "    StructField(\"discount_percent\", StringType(), True),     \n",
    "    StructField(\"tax_percent\", StringType(), True),          \n",
    "    StructField(\"priority_level\", StringType(), True),       \n",
    "    StructField(\"po_category\", StringType(), True)   \n",
    "])\n",
    "\n",
    "order_line_items_schema = StructType([\n",
    "    StructField(\"line_item_id\", StringType(), True),                \n",
    "    StructField(\"po_id\", StringType(), True),          \n",
    "    StructField(\"item_id\", StringType(), True),            \n",
    "    StructField(\"item_description\", StringType(), True),              \n",
    "    StructField(\"item_category\", StringType(), True),             \n",
    "    StructField(\"quantity_ordered\", StringType(), True),         \n",
    "    StructField(\"unit_price\", StringType(), True),        \n",
    "    StructField(\"total_price\", StringType(), True),      \n",
    "    StructField(\"expected_delivery_date\", DateType(), True),     \n",
    "    StructField(\"unit_of_measure\", StringType(), True),           \n",
    "    StructField(\"line_status\", StringType(), True),      \n",
    "    StructField(\"item_weight_kg\", StringType(), True),     \n",
    "    StructField(\"item_volume_cm3\", StringType(), True),          \n",
    "    StructField(\"discount_applied\", StringType(), True),       \n",
    "    StructField(\"batch_code\", StringType(), True)   \n",
    "])\n",
    "\n",
    "inventory_stock_schema = StructType([\n",
    "    StructField(\"inventory_id\", StringType(), True),                \n",
    "    StructField(\"item_id\", StringType(), True),          \n",
    "    StructField(\"warehouse_id\", StringType(), True),            \n",
    "    StructField(\"stock_quantity\", StringType(), True),              \n",
    "    StructField(\"reorder_level\", StringType(), True),             \n",
    "    StructField(\"safety_stock\", StringType(), True),         \n",
    "    StructField(\"last_updated\", StringType(), True),        \n",
    "    StructField(\"batch_code\", StringType(), True),      \n",
    "    StructField(\"location_code\", StringType(), True),     \n",
    "    StructField(\"is_damaged\", StringType(), True),           \n",
    "    StructField(\"shelf_life_days\", StringType(), True),      \n",
    "    StructField(\"temperature_required\", StringType(), True),     \n",
    "    StructField(\"item_condition\", StringType(), True),          \n",
    "    StructField(\"in_transit\", StringType(), True),       \n",
    "    StructField(\"is_available\", StringType(), True)   \n",
    "])\n",
    "\n",
    "audit_schema = StructType([\n",
    "    StructField(\"env\", StringType(), True),\n",
    "    StructField(\"table_name\", StringType(), True),\n",
    "    StructField(\"source_path\", StringType(), True),\n",
    "    StructField(\"target_path\", StringType(), True),\n",
    "    StructField(\"failed_path\", StringType(), True),\n",
    "    StructField(\"quarantine_path\", StringType(), True),\n",
    "    StructField(\"load_type\", StringType(), True),\n",
    "    StructField(\"is_incremental\", BooleanType(), True),\n",
    "    StructField(\"load_timestamp\", TimestampType(), True),\n",
    "    StructField(\"total_records\", LongType(), True),\n",
    "    StructField(\"passed_records\", LongType(), True),\n",
    "    StructField(\"failed_records\", LongType(), True),\n",
    "    StructField(\"status\", StringType(), True),\n",
    "    StructField(\"message\", StringType(), True)\n",
    "])\n",
    "\n"
   ]
  },
  {
   "cell_type": "code",
   "execution_count": 0,
   "metadata": {
    "application/vnd.databricks.v1+cell": {
     "cellMetadata": {
      "byteLimit": 2048000,
      "rowLimit": 10000
     },
     "inputWidgets": {},
     "nuid": "3ef14eed-c89a-46b4-a8cf-d9a68034a9ef",
     "showTitle": false,
     "tableResultSettingsMap": {},
     "title": ""
    }
   },
   "outputs": [],
   "source": [
    "dbutils.widgets.text(\"file_name\", \"suppliers_raw\")\n",
    "dbutils.widgets.text(\"app_password\", \"qfswthychmohjkim\")\n",
    "dbutils.widgets.text(\"env\", \"dev\")\n",
    "p_file_name = dbutils.widgets.get(\"file_name\")\n",
    "app_password = dbutils.widgets.get(\"app_password\")\n",
    "env = dbutils.widgets.get(\"env\")\n",
    "env = env.strip().lower()"
   ]
  },
  {
   "cell_type": "code",
   "execution_count": 0,
   "metadata": {
    "application/vnd.databricks.v1+cell": {
     "cellMetadata": {
      "byteLimit": 2048000,
      "rowLimit": 10000
     },
     "inputWidgets": {},
     "nuid": "0b622098-963c-4944-8611-c1dcb84d0ab4",
     "showTitle": false,
     "tableResultSettingsMap": {},
     "title": ""
    }
   },
   "outputs": [],
   "source": [
    "p_file_name = p_file_name.strip().lower()\n",
    "\n",
    "schema_map = {\n",
    "    \"suppliers_raw\": supplier_schema,\n",
    "    \"purchase_orders\": purchase_orders_schema,\n",
    "    \"order_line_items\": order_line_items_schema,\n",
    "    \"inventory_stock\": inventory_stock_schema\n",
    "}\n",
    "\n",
    "schema = schema_map.get(p_file_name)\n",
    "if schema is None:\n",
    "    raise ValueError(f\"No schema found for cleaned p_file_name: '{p_file_name}'. Available keys: {list(schema_map.keys())}\")"
   ]
  },
  {
   "cell_type": "code",
   "execution_count": 0,
   "metadata": {
    "application/vnd.databricks.v1+cell": {
     "cellMetadata": {
      "byteLimit": 2048000,
      "rowLimit": 10000
     },
     "inputWidgets": {},
     "nuid": "a6597ebb-b655-4962-8ecb-68e9d15ee472",
     "showTitle": false,
     "tableResultSettingsMap": {},
     "title": ""
    }
   },
   "outputs": [],
   "source": [
    "table_name = f\"scm_foreign_cata.raw.{p_file_name}\"\n",
    "df_raw = spark.read.table(table_name)"
   ]
  },
  {
   "cell_type": "code",
   "execution_count": 0,
   "metadata": {
    "application/vnd.databricks.v1+cell": {
     "cellMetadata": {
      "byteLimit": 2048000,
      "rowLimit": 10000
     },
     "inputWidgets": {},
     "nuid": "6d4e032e-fbb1-454f-87df-436e60fae457",
     "showTitle": false,
     "tableResultSettingsMap": {
      "0": {
       "dataGridStateBlob": "{\"version\":1,\"tableState\":{\"columnPinning\":{\"left\":[\"#row_number#\"],\"right\":[]},\"columnSizing\":{},\"columnVisibility\":{}},\"settings\":{\"columns\":{}},\"syncTimestamp\":1753682806312}",
       "filterBlob": null,
       "queryPlanFiltersBlob": null,
       "tableResultIndex": 0
      }
     },
     "title": ""
    }
   },
   "outputs": [],
   "source": [
    "df_parsed = df_raw.withColumn(\"json\", from_json(col(\"RAW_DATA\"), schema)).select(\"json.*\")\n",
    "df_parsed.display()"
   ]
  },
  {
   "cell_type": "markdown",
   "metadata": {
    "application/vnd.databricks.v1+cell": {
     "cellMetadata": {
      "byteLimit": 2048000,
      "rowLimit": 10000
     },
     "inputWidgets": {},
     "nuid": "d5b29bba-ed8d-4e48-8d31-df564fcd8f41",
     "showTitle": false,
     "tableResultSettingsMap": {},
     "title": ""
    }
   },
   "source": [
    "### Load DQ rules"
   ]
  },
  {
   "cell_type": "code",
   "execution_count": 0,
   "metadata": {
    "application/vnd.databricks.v1+cell": {
     "cellMetadata": {
      "byteLimit": 2048000,
      "rowLimit": 10000
     },
     "inputWidgets": {},
     "nuid": "a6c5fa01-3488-4c9b-926c-261652c29a61",
     "showTitle": false,
     "tableResultSettingsMap": {},
     "title": ""
    }
   },
   "outputs": [],
   "source": [
    "with open(\"/Workspace/Users/avadhootd.business@gmail.com/SCM/config/dq_rules.json\", \"r\") as f:\n",
    "    dq_config = json.load(f)\n",
    "rules = dq_config.get(p_file_name, {}).get(\"bronze_rules\", {})\n",
    "failed_rules = dq_config.get(p_file_name, {}).get(\"failed_rules\", [])\n",
    "quarantine_rules = dq_config.get(p_file_name, {}).get(\"quarantine_rules\", [])"
   ]
  },
  {
   "cell_type": "code",
   "execution_count": 0,
   "metadata": {
    "application/vnd.databricks.v1+cell": {
     "cellMetadata": {
      "byteLimit": 2048000,
      "rowLimit": 10000
     },
     "inputWidgets": {},
     "nuid": "bfe733ef-db20-43e1-be09-796780c4d3c7",
     "showTitle": false,
     "tableResultSettingsMap": {},
     "title": ""
    }
   },
   "outputs": [],
   "source": [
    "%run /Workspace/Users/avadhootd.business@gmail.com/SCM/utils/bronze_rule_validation"
   ]
  },
  {
   "cell_type": "code",
   "execution_count": 0,
   "metadata": {
    "application/vnd.databricks.v1+cell": {
     "cellMetadata": {
      "byteLimit": 2048000,
      "rowLimit": 10000
     },
     "inputWidgets": {},
     "nuid": "adaa4ae6-86a0-422b-824b-2b08a1c1eb9b",
     "showTitle": false,
     "tableResultSettingsMap": {},
     "title": ""
    }
   },
   "outputs": [],
   "source": [
    "df_clean, df_failed = validate_bronze_rules(df_parsed, rules, failed_rules)\n",
    "\n",
    "# Show results\n",
    "print(df_clean.count())\n",
    "print(df_failed.count())\n"
   ]
  },
  {
   "cell_type": "code",
   "execution_count": 0,
   "metadata": {
    "application/vnd.databricks.v1+cell": {
     "cellMetadata": {
      "byteLimit": 2048000,
      "rowLimit": 10000
     },
     "inputWidgets": {},
     "nuid": "de9547bf-adcd-47e6-9955-3b878edd8c7e",
     "showTitle": false,
     "tableResultSettingsMap": {},
     "title": ""
    }
   },
   "outputs": [],
   "source": [
    "with open(\"/Workspace/Users/avadhootd.business@gmail.com/SCM/config/config.json\", \"r\") as f:\n",
    "    config = json.load(f)"
   ]
  },
  {
   "cell_type": "code",
   "execution_count": 0,
   "metadata": {
    "application/vnd.databricks.v1+cell": {
     "cellMetadata": {
      "byteLimit": 2048000,
      "rowLimit": 10000
     },
     "inputWidgets": {},
     "nuid": "e7ab2a11-f925-4ae6-9b7b-07354887e784",
     "showTitle": false,
     "tableResultSettingsMap": {},
     "title": ""
    }
   },
   "outputs": [],
   "source": [
    "df_clean.write.format(\"delta\").mode(\"overwrite\").saveAsTable(config[env][p_file_name][\"pass_target\"])\n",
    "df_failed.write.format(\"delta\").mode(\"overwrite\").saveAsTable(config[env][p_file_name][\"failed_target\"])\n"
   ]
  },
  {
   "cell_type": "code",
   "execution_count": 0,
   "metadata": {
    "application/vnd.databricks.v1+cell": {
     "cellMetadata": {
      "byteLimit": 2048000,
      "rowLimit": 10000
     },
     "inputWidgets": {},
     "nuid": "d5728ce4-856a-493d-b643-a700c9d9e58e",
     "showTitle": false,
     "tableResultSettingsMap": {},
     "title": ""
    }
   },
   "outputs": [],
   "source": [
    "# %run /Workspace/Users/avadhootd.business@gmail.com/SCM/utils/send_alert_email\n"
   ]
  },
  {
   "cell_type": "code",
   "execution_count": 0,
   "metadata": {
    "application/vnd.databricks.v1+cell": {
     "cellMetadata": {
      "byteLimit": 2048000,
      "rowLimit": 10000
     },
     "inputWidgets": {},
     "nuid": "e0873adf-c52e-4d8c-b94d-61fbbfbde750",
     "showTitle": false,
     "tableResultSettingsMap": {},
     "title": ""
    }
   },
   "outputs": [],
   "source": [
    "# failed_table = config[env][p_file_name][\"failed_target\"]\n",
    "# quarantine_table = config[env][p_file_name][\"quarantine_target\"]"
   ]
  },
  {
   "cell_type": "code",
   "execution_count": 0,
   "metadata": {
    "application/vnd.databricks.v1+cell": {
     "cellMetadata": {
      "byteLimit": 2048000,
      "rowLimit": 10000
     },
     "inputWidgets": {},
     "nuid": "4ff6a1a4-b9ef-4cf1-bf9f-8c1349aa1bb0",
     "showTitle": false,
     "tableResultSettingsMap": {},
     "title": ""
    }
   },
   "outputs": [],
   "source": [
    "# app_password = app_password.strip()\n",
    "\n",
    "# if df_quarantine.count() > 0 or df_failed.count() > 0:\n",
    "#     send_gmail_email(\n",
    "#     app_password=\"qfswthychmohjkim\",\n",
    "#     from_email=\"avadhootdarbhe@gmail.com\",\n",
    "#     to_email=\"avadhootd.in@mouritech.com\",\n",
    "#     tables=[failed_table, quarantine_table]\n",
    "#     )\n"
   ]
  },
  {
   "cell_type": "markdown",
   "metadata": {
    "application/vnd.databricks.v1+cell": {
     "cellMetadata": {
      "byteLimit": 2048000,
      "rowLimit": 10000
     },
     "inputWidgets": {},
     "nuid": "d0dfbb36-a492-441e-8a80-a771608f6cb2",
     "showTitle": false,
     "tableResultSettingsMap": {},
     "title": ""
    }
   },
   "source": [
    "### Audit Logs"
   ]
  },
  {
   "cell_type": "code",
   "execution_count": 0,
   "metadata": {
    "application/vnd.databricks.v1+cell": {
     "cellMetadata": {
      "byteLimit": 2048000,
      "rowLimit": 10000
     },
     "inputWidgets": {},
     "nuid": "3e8ef625-c01e-4eb6-8421-9252c59a2e7d",
     "showTitle": false,
     "tableResultSettingsMap": {},
     "title": ""
    }
   },
   "outputs": [],
   "source": [
    "%run /Workspace/Users/avadhootd.business@gmail.com/SCM/utils/audit_status\n",
    "\n"
   ]
  },
  {
   "cell_type": "code",
   "execution_count": 0,
   "metadata": {
    "application/vnd.databricks.v1+cell": {
     "cellMetadata": {
      "byteLimit": 2048000,
      "rowLimit": 10000
     },
     "inputWidgets": {},
     "nuid": "2e0b5383-17b6-424f-841a-ab178a54b1f9",
     "showTitle": false,
     "tableResultSettingsMap": {},
     "title": ""
    }
   },
   "outputs": [],
   "source": [
    "total = df_parsed.count()\n",
    "passed = df_clean.count()\n",
    "failed = df_failed.count()\n",
    "\n",
    "status, message = get_audit_status_and_message(total, passed, failed)\n"
   ]
  },
  {
   "cell_type": "code",
   "execution_count": 0,
   "metadata": {
    "application/vnd.databricks.v1+cell": {
     "cellMetadata": {
      "byteLimit": 2048000,
      "rowLimit": 10000
     },
     "inputWidgets": {},
     "nuid": "4547d6e3-5dbb-4f58-be77-31ca6709c90b",
     "showTitle": false,
     "tableResultSettingsMap": {},
     "title": ""
    }
   },
   "outputs": [],
   "source": [
    "audit_data = [{\n",
    "    \"env\": env,\n",
    "    \"table_name\": p_file_name,\n",
    "    \"source_path\": f\"scm_foreign_cata.raw.{p_file_name}\",\n",
    "    \"target_path\": config[env][p_file_name][\"pass_target\"],\n",
    "    \"failed_path\": config[env][p_file_name][\"failed_target\"],\n",
    "    \"quarantine_path\": config[env][p_file_name][\"quarantine_target\"],\n",
    "    \"is_incremental\": config[env][p_file_name][\"is_incremental\"],\n",
    "    \"load_timestamp\": datetime.now(),\n",
    "    \"total_records\": df_parsed.count(),\n",
    "    \"passed_records\": df_clean.count(),\n",
    "    \"failed_records\": df_failed.count(),\n",
    "    \"status\": status,\n",
    "    \"message\": message\n",
    "}]\n",
    "\n",
    "audit_df = spark.createDataFrame(audit_data, audit_schema)\n",
    "\n",
    "audit_df.write.format(\"delta\").mode(\"append\").saveAsTable(config[env][p_file_name][\"audit_log_target\"])"
   ]
  },
  {
   "cell_type": "markdown",
   "metadata": {
    "application/vnd.databricks.v1+cell": {
     "cellMetadata": {
      "byteLimit": 2048000,
      "rowLimit": 10000
     },
     "inputWidgets": {},
     "nuid": "13e8cab8-3784-4f00-8461-50ffd918e2aa",
     "showTitle": false,
     "tableResultSettingsMap": {},
     "title": ""
    }
   },
   "source": []
  }
 ],
 "metadata": {
  "application/vnd.databricks.v1+notebook": {
   "computePreferences": null,
   "dashboards": [],
   "environmentMetadata": {
    "base_environment": "",
    "environment_version": "2"
   },
   "inputWidgetPreferences": null,
   "language": "python",
   "notebookMetadata": {
    "mostRecentlyExecutedCommandWithImplicitDF": {
     "commandId": 6787953207482437,
     "dataframes": [
      "_sqldf"
     ]
    },
    "pythonIndentUnit": 4
   },
   "notebookName": "ingestion",
   "widgets": {
    "app_password": {
     "currentValue": "qfswthychmohjkim",
     "nuid": "4347c33c-4420-464f-b2b9-e413b674cdad",
     "typedWidgetInfo": {
      "autoCreated": false,
      "defaultValue": "qfswthychmohjkim",
      "label": null,
      "name": "app_password",
      "options": {
       "widgetDisplayType": "Text",
       "validationRegex": null
      },
      "parameterDataType": "String"
     },
     "widgetInfo": {
      "widgetType": "text",
      "defaultValue": "qfswthychmohjkim",
      "label": null,
      "name": "app_password",
      "options": {
       "widgetType": "text",
       "autoCreated": null,
       "validationRegex": null
      }
     }
    },
    "env": {
     "currentValue": "dev",
     "nuid": "60bfbb42-d785-4c84-8f44-c1a809b3618c",
     "typedWidgetInfo": {
      "autoCreated": false,
      "defaultValue": "dev",
      "label": null,
      "name": "env",
      "options": {
       "widgetDisplayType": "Text",
       "validationRegex": null
      },
      "parameterDataType": "String"
     },
     "widgetInfo": {
      "widgetType": "text",
      "defaultValue": "dev",
      "label": null,
      "name": "env",
      "options": {
       "widgetType": "text",
       "autoCreated": null,
       "validationRegex": null
      }
     }
    },
    "file_name": {
     "currentValue": "purchase_orders",
     "nuid": "4af90f16-9e10-4bc7-97c7-9b6cbb666d42",
     "typedWidgetInfo": {
      "autoCreated": false,
      "defaultValue": "suppliers_raw",
      "label": null,
      "name": "file_name",
      "options": {
       "widgetDisplayType": "Text",
       "validationRegex": null
      },
      "parameterDataType": "String"
     },
     "widgetInfo": {
      "widgetType": "text",
      "defaultValue": "suppliers_raw",
      "label": null,
      "name": "file_name",
      "options": {
       "widgetType": "text",
       "autoCreated": null,
       "validationRegex": null
      }
     }
    }
   }
  },
  "language_info": {
   "name": "python"
  }
 },
 "nbformat": 4,
 "nbformat_minor": 0
}
