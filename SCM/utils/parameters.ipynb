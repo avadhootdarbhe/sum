{
 "cells": [
  {
   "cell_type": "code",
   "execution_count": 0,
   "metadata": {
    "application/vnd.databricks.v1+cell": {
     "cellMetadata": {
      "byteLimit": 2048000,
      "rowLimit": 10000
     },
     "inputWidgets": {},
     "nuid": "602e2de4-2985-49af-95a6-391276f7ee82",
     "showTitle": false,
     "tableResultSettingsMap": {},
     "title": ""
    }
   },
   "outputs": [],
   "source": [
    "\n",
    "shared_fields = {\n",
    "    \"app_password\": \"qfswthychmohjkim\",\n",
    "    \"env\": \"dev\"  \n",
    "}\n",
    "file_names = [\n",
    "    {\n",
    "        \"file\": \"suppliers_raw\"\n",
    "    },\n",
    "    {\n",
    "        \"file\": \"purchase_orders\"\n",
    "    },\n",
    "    {\n",
    "        \"file\": \"order_line_items\"\n",
    "    },\n",
    "    {\n",
    "        \"file\": \"inventory_stock\"\n",
    "    }\n",
    "]\n",
    "\n",
    "for item in file_names:\n",
    "    item.update(shared_fields)\n",
    "\n"
   ]
  },
  {
   "cell_type": "code",
   "execution_count": 0,
   "metadata": {
    "application/vnd.databricks.v1+cell": {
     "cellMetadata": {
      "byteLimit": 2048000,
      "rowLimit": 10000
     },
     "inputWidgets": {},
     "nuid": "a8b5580b-ea67-4240-93a8-c025c6d12997",
     "showTitle": false,
     "tableResultSettingsMap": {},
     "title": ""
    }
   },
   "outputs": [],
   "source": [
    "\n",
    "dbutils.jobs.taskValues.set(\"output_files\", file_names)"
   ]
  }
 ],
 "metadata": {
  "application/vnd.databricks.v1+notebook": {
   "computePreferences": null,
   "dashboards": [],
   "environmentMetadata": {
    "base_environment": "",
    "environment_version": "2"
   },
   "inputWidgetPreferences": null,
   "language": "python",
   "notebookMetadata": {
    "pythonIndentUnit": 4
   },
   "notebookName": "parameters",
   "widgets": {}
  },
  "language_info": {
   "name": "python"
  }
 },
 "nbformat": 4,
 "nbformat_minor": 0
}
