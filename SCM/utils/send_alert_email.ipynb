{
 "cells": [
  {
   "cell_type": "code",
   "execution_count": 0,
   "metadata": {
    "application/vnd.databricks.v1+cell": {
     "cellMetadata": {
      "byteLimit": 2048000,
      "rowLimit": 10000
     },
     "inputWidgets": {},
     "nuid": "0258655b-c061-486c-a1d5-0af4e18db1d1",
     "showTitle": false,
     "tableResultSettingsMap": {},
     "title": ""
    }
   },
   "outputs": [],
   "source": [
    "import smtplib\n",
    "import base64\n",
    "from email.mime.multipart import MIMEMultipart\n",
    "from email.mime.text import MIMEText\n",
    "from email.mime.base import MIMEBase\n",
    "from email import encoders\n",
    "from io import BytesIO"
   ]
  },
  {
   "cell_type": "code",
   "execution_count": 0,
   "metadata": {
    "application/vnd.databricks.v1+cell": {
     "cellMetadata": {
      "byteLimit": 2048000,
      "rowLimit": 10000
     },
     "inputWidgets": {},
     "nuid": "3da9f9bb-1fbd-450d-a72f-e75bb7958211",
     "showTitle": false,
     "tableResultSettingsMap": {},
     "title": ""
    }
   },
   "outputs": [],
   "source": [
    "def fetch_csv_attachment(table_name: str):\n",
    "    df = spark.read.table(table_name)\n",
    "    if df.count() == 0:\n",
    "        return None\n",
    "    \n",
    "    pdf = df.toPandas()\n",
    "    buffer = BytesIO()\n",
    "    pdf.to_csv(buffer, index=False)\n",
    "    buffer.seek(0)\n",
    "    \n",
    "    part = MIMEBase('application', 'octet-stream')\n",
    "    part.set_payload(buffer.read())\n",
    "    encoders.encode_base64(part)\n",
    "    part.add_header('Content-Disposition', f'attachment; filename=\"{table_name.replace(\".\", \"_\")}.csv\"')\n",
    "    \n",
    "    return part"
   ]
  },
  {
   "cell_type": "code",
   "execution_count": 0,
   "metadata": {
    "application/vnd.databricks.v1+cell": {
     "cellMetadata": {
      "byteLimit": 2048000,
      "rowLimit": 10000
     },
     "inputWidgets": {},
     "nuid": "6a496cad-8fee-4be7-961c-82c1dae29863",
     "showTitle": false,
     "tableResultSettingsMap": {},
     "title": ""
    }
   },
   "outputs": [],
   "source": [
    "def send_gmail_email(from_email, to_email, app_password, tables: list):\n",
    "    msg = MIMEMultipart()\n",
    "    msg['From'] = from_email\n",
    "    msg['To'] = to_email\n",
    "    msg['Subject'] = \"[Databricks Alert] Failed & Quarantine Records\"\n",
    "\n",
    "    msg.attach(MIMEText(\"\"\"\n",
    "    <p>Hi Team,</p>\n",
    "    <p>Attached are the failed and quarantined records from the pipeline run.</p>\n",
    "    <p>Regards,<br>Databricks</p>\n",
    "    \"\"\", 'html'))\n",
    "\n",
    "    # Attach CSVs\n",
    "    for table in tables:\n",
    "        part = fetch_csv_attachment(table)\n",
    "        if part:\n",
    "            msg.attach(part)\n",
    "\n",
    "    if len(msg.get_payload()) <= 1:\n",
    "        print(\"✅ No failed or quarantined records to send.\")\n",
    "        return\n",
    "\n",
    "    # Send email via Gmail SMTP\n",
    "    with smtplib.SMTP(\"smtp.gmail.com\", 587) as server:\n",
    "        server.starttls()\n",
    "        server.login(from_email, app_password)\n",
    "        server.send_message(msg)\n",
    "        print(\"📧 Email sent successfully via Gmail.\")\n"
   ]
  }
 ],
 "metadata": {
  "application/vnd.databricks.v1+notebook": {
   "computePreferences": null,
   "dashboards": [],
   "environmentMetadata": {
    "base_environment": "",
    "environment_version": "2"
   },
   "inputWidgetPreferences": null,
   "language": "python",
   "notebookMetadata": {
    "pythonIndentUnit": 4
   },
   "notebookName": "send_alert_email",
   "widgets": {}
  },
  "language_info": {
   "name": "python"
  }
 },
 "nbformat": 4,
 "nbformat_minor": 0
}
