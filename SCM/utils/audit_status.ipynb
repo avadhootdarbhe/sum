{
 "cells": [
  {
   "cell_type": "code",
   "execution_count": 0,
   "metadata": {
    "application/vnd.databricks.v1+cell": {
     "cellMetadata": {
      "byteLimit": 2048000,
      "rowLimit": 10000
     },
     "inputWidgets": {},
     "nuid": "b19af5a1-a958-4b2b-adfd-451b0fa95afb",
     "showTitle": false,
     "tableResultSettingsMap": {},
     "title": ""
    }
   },
   "outputs": [],
   "source": [
    "def get_audit_status_and_message(total, passed, failed = 0, quarantined = 0):\n",
    "    \"\"\"\n",
    "    Returns audit status and message based on record counts.\n",
    "\n",
    "    Args:\n",
    "        total (int): Total records parsed\n",
    "        passed (int): Records that passed validation\n",
    "        failed (int): Records that failed validation\n",
    "        quarantined (int): Records that were quarantined\n",
    "\n",
    "    Returns:\n",
    "        (status, message): Tuple of status and descriptive message\n",
    "    \"\"\"\n",
    "    if total == 0:\n",
    "        return \"No Data\", \"No records found in source.\"\n",
    "    \n",
    "    if failed > 0:\n",
    "        return \"Failed\", \"Some records failed validation.\"\n",
    "    \n",
    "    if quarantined > 0:\n",
    "        return \"Quarantined\", \"Some records were quarantined.\"\n",
    "\n",
    "    if passed > 0:\n",
    "        return \"Success with Issues\", \"Loaded with some records in quarantine and/or failure.\"\n",
    "\n",
    "    return \"Failed\", \"All records failed or quarantined. No records passed.\"\n"
   ]
  }
 ],
 "metadata": {
  "application/vnd.databricks.v1+notebook": {
   "computePreferences": null,
   "dashboards": [],
   "environmentMetadata": {
    "base_environment": "",
    "environment_version": "2"
   },
   "inputWidgetPreferences": null,
   "language": "python",
   "notebookMetadata": {
    "pythonIndentUnit": 4
   },
   "notebookName": "audit_status",
   "widgets": {}
  },
  "language_info": {
   "name": "python"
  }
 },
 "nbformat": 4,
 "nbformat_minor": 0
}
