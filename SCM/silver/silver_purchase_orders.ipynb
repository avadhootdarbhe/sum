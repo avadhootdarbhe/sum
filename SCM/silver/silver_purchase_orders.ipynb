{
 "cells": [
  {
   "cell_type": "markdown",
   "metadata": {
    "application/vnd.databricks.v1+cell": {
     "cellMetadata": {
      "byteLimit": 2048000,
      "rowLimit": 10000
     },
     "inputWidgets": {},
     "nuid": "285e82ad-978b-4c86-aa8c-c2e8bdaf3950",
     "showTitle": false,
     "tableResultSettingsMap": {},
     "title": ""
    }
   },
   "source": [
    "### Imports"
   ]
  },
  {
   "cell_type": "code",
   "execution_count": 0,
   "metadata": {
    "application/vnd.databricks.v1+cell": {
     "cellMetadata": {
      "byteLimit": 2048000,
      "rowLimit": 10000
     },
     "inputWidgets": {},
     "nuid": "42be8c63-da3b-401d-9a64-cf1e6f72a90d",
     "showTitle": false,
     "tableResultSettingsMap": {},
     "title": ""
    }
   },
   "outputs": [],
   "source": [
    "from pyspark.sql.functions import *\n",
    "from pyspark.sql.types import *\n",
    "from datetime import datetime\n",
    "import json"
   ]
  },
  {
   "cell_type": "code",
   "execution_count": 0,
   "metadata": {
    "application/vnd.databricks.v1+cell": {
     "cellMetadata": {
      "byteLimit": 2048000,
      "rowLimit": 10000
     },
     "inputWidgets": {},
     "nuid": "351d084f-a621-4cbd-8b20-6967bdeccdb5",
     "showTitle": false,
     "tableResultSettingsMap": {},
     "title": ""
    }
   },
   "outputs": [],
   "source": [
    "tb_name = \"purchase_orders\"\n",
    "silver_tb_name = \"silver_purchase_orders\""
   ]
  },
  {
   "cell_type": "markdown",
   "metadata": {
    "application/vnd.databricks.v1+cell": {
     "cellMetadata": {
      "byteLimit": 2048000,
      "rowLimit": 10000
     },
     "inputWidgets": {},
     "nuid": "71368d4a-9578-41cc-b67e-15b84521bff2",
     "showTitle": false,
     "tableResultSettingsMap": {},
     "title": ""
    }
   },
   "source": [
    "### Read Raw Tables"
   ]
  },
  {
   "cell_type": "code",
   "execution_count": 0,
   "metadata": {
    "application/vnd.databricks.v1+cell": {
     "cellMetadata": {
      "byteLimit": 2048000,
      "rowLimit": 10000
     },
     "inputWidgets": {},
     "nuid": "1c442a51-340b-4243-94f3-da4349d2b96f",
     "showTitle": false,
     "tableResultSettingsMap": {},
     "title": ""
    }
   },
   "outputs": [],
   "source": [
    "purchase_orders_schema = StructType([\n",
    "    StructField(\"po_id\", IntegerType(), True),                \n",
    "    StructField(\"supplier_id\", IntegerType(), True),          \n",
    "    StructField(\"po_number\", StringType(), True),            \n",
    "    StructField(\"po_date\", DateType(), True),              \n",
    "    StructField(\"currency\", StringType(), True),             \n",
    "    StructField(\"total_amount\", DoubleType(), True),         \n",
    "    StructField(\"payment_terms\", StringType(), True),        \n",
    "    StructField(\"approval_status\", StringType(), True),      \n",
    "    StructField(\"delivery_country\", StringType(), True),     \n",
    "    StructField(\"buyer_name\", StringType(), True),           \n",
    "    StructField(\"freight_charges\", DoubleType(), True),      \n",
    "    StructField(\"discount_percent\", DoubleType(), True),     \n",
    "    StructField(\"tax_percent\", DoubleType(), True),          \n",
    "    StructField(\"priority_level\", StringType(), True),       \n",
    "    StructField(\"po_category\", StringType(), True)   \n",
    "])\n",
    "\n",
    "audit_schema = StructType([\n",
    "    StructField(\"env\", StringType(), True),\n",
    "    StructField(\"table_name\", StringType(), True),\n",
    "    StructField(\"source_path\", StringType(), True),\n",
    "    StructField(\"target_path\", StringType(), True),\n",
    "    StructField(\"quarantine_path\", StringType(), True),\n",
    "    StructField(\"load_timestamp\", TimestampType(), True),\n",
    "    StructField(\"total_records\", LongType(), True),\n",
    "    StructField(\"passed_records\", LongType(), True),\n",
    "    StructField(\"quarantine_records\", LongType(), True),\n",
    "    StructField(\"status\", StringType(), True),\n",
    "    StructField(\"message\", StringType(), True)\n",
    "])\n",
    "\n"
   ]
  },
  {
   "cell_type": "code",
   "execution_count": 0,
   "metadata": {
    "application/vnd.databricks.v1+cell": {
     "cellMetadata": {
      "byteLimit": 2048000,
      "rowLimit": 10000
     },
     "inputWidgets": {},
     "nuid": "3ef14eed-c89a-46b4-a8cf-d9a68034a9ef",
     "showTitle": false,
     "tableResultSettingsMap": {},
     "title": ""
    }
   },
   "outputs": [],
   "source": [
    "dbutils.widgets.text(\"env\", \"dev\")\n",
    "env = dbutils.widgets.get(\"env\").strip().lower()"
   ]
  },
  {
   "cell_type": "code",
   "execution_count": 0,
   "metadata": {
    "application/vnd.databricks.v1+cell": {
     "cellMetadata": {
      "byteLimit": 2048000,
      "rowLimit": 10000
     },
     "inputWidgets": {},
     "nuid": "a3dbcc77-51e0-4e30-8cd3-5b0ce6e94645",
     "showTitle": false,
     "tableResultSettingsMap": {},
     "title": ""
    }
   },
   "outputs": [],
   "source": [
    "with open(\"/Workspace/Users/avadhootd.business@gmail.com/sum/SCM/config/config.json\", \"r\") as f:\n",
    "    config = json.load(f)"
   ]
  },
  {
   "cell_type": "code",
   "execution_count": 0,
   "metadata": {
    "application/vnd.databricks.v1+cell": {
     "cellMetadata": {
      "byteLimit": 2048000,
      "rowLimit": 10000
     },
     "inputWidgets": {},
     "nuid": "a6597ebb-b655-4962-8ecb-68e9d15ee472",
     "showTitle": false,
     "tableResultSettingsMap": {},
     "title": ""
    }
   },
   "outputs": [],
   "source": [
    "table_name = config[env][tb_name][\"pass_target\"]\n",
    "df_raw = spark.read.table(table_name)"
   ]
  },
  {
   "cell_type": "code",
   "execution_count": 0,
   "metadata": {
    "application/vnd.databricks.v1+cell": {
     "cellMetadata": {
      "byteLimit": 2048000,
      "rowLimit": 10000
     },
     "inputWidgets": {},
     "nuid": "6d4e032e-fbb1-454f-87df-436e60fae457",
     "showTitle": false,
     "tableResultSettingsMap": {},
     "title": ""
    }
   },
   "outputs": [],
   "source": [
    "df_parsed = df_raw \\\n",
    "    .withColumn(\"po_id\", when(col(\"po_id\").rlike(\"^[0-9]+$\"), col(\"po_id\").cast(IntegerType())).otherwise(None)) \\\n",
    "    .withColumn(\"supplier_id\", when(col(\"supplier_id\").rlike(\"^[0-9]+$\"), col(\"supplier_id\").cast(IntegerType())).otherwise(None)) \\\n",
    "    .withColumn(\"po_date\", when(col(\"po_date\").rlike(\"^[0-9]{4}-[0-9]{2}-[0-9]{2}$\"), col(\"po_date\").cast(DateType())).otherwise(None)) \\\n",
    "    .withColumn(\"total_amount\",when(col(\"total_amount\").rlike(r\"^\\d*\\.?\\d+$\"), col(\"total_amount\").cast(DoubleType()))\n",
    "        .otherwise(None)\n",
    "    )\\\n",
    "     .withColumn(\"freight_charges\", when(col(\"freight_charges\").rlike(r\"^\\d*\\.?\\d+$\"), col(\"freight_charges\").cast(DoubleType())).otherwise(None)) \\\n",
    "    .withColumn(\"discount_percent\", when(col(\"discount_percent\").rlike(r\"^\\d*\\.?\\d+$\"), col(\"discount_percent\").cast(DoubleType())).otherwise(None)) \\\n",
    "    .drop(\"failed_raw\", \"failed_reasons\", \"all_reasons\", \"reasons_str\", \"tax_percent\", \"po_category\")\n"
   ]
  },
  {
   "cell_type": "markdown",
   "metadata": {
    "application/vnd.databricks.v1+cell": {
     "cellMetadata": {
      "byteLimit": 2048000,
      "rowLimit": 10000
     },
     "inputWidgets": {},
     "nuid": "d5b29bba-ed8d-4e48-8d31-df564fcd8f41",
     "showTitle": false,
     "tableResultSettingsMap": {},
     "title": ""
    }
   },
   "source": [
    "### Load DQ rules"
   ]
  },
  {
   "cell_type": "code",
   "execution_count": 0,
   "metadata": {
    "application/vnd.databricks.v1+cell": {
     "cellMetadata": {
      "byteLimit": 2048000,
      "rowLimit": 10000
     },
     "inputWidgets": {},
     "nuid": "a6c5fa01-3488-4c9b-926c-261652c29a61",
     "showTitle": false,
     "tableResultSettingsMap": {},
     "title": ""
    }
   },
   "outputs": [],
   "source": [
    "with open(\"/Workspace/Users/avadhootd.business@gmail.com/sum/SCM/config/dq_rules.json\", \"r\") as f:\n",
    "    dq_config = json.load(f)\n",
    "rules = dq_config.get(tb_name, {}).get(\"silver_rules\", {})\n",
    "quarantine_rules = dq_config.get(tb_name, {}).get(\"quarantine_rules\", [])"
   ]
  },
  {
   "cell_type": "code",
   "execution_count": 0,
   "metadata": {
    "application/vnd.databricks.v1+cell": {
     "cellMetadata": {
      "byteLimit": 2048000,
      "rowLimit": 10000
     },
     "inputWidgets": {},
     "nuid": "bfe733ef-db20-43e1-be09-796780c4d3c7",
     "showTitle": false,
     "tableResultSettingsMap": {},
     "title": ""
    }
   },
   "outputs": [],
   "source": [
    "%run /Workspace/Users/avadhootd.business@gmail.com/sum/SCM/utils/bronze_rule_validation"
   ]
  },
  {
   "cell_type": "code",
   "execution_count": 0,
   "metadata": {
    "application/vnd.databricks.v1+cell": {
     "cellMetadata": {
      "byteLimit": 2048000,
      "rowLimit": 10000
     },
     "inputWidgets": {},
     "nuid": "adaa4ae6-86a0-422b-824b-2b08a1c1eb9b",
     "showTitle": false,
     "tableResultSettingsMap": {},
     "title": ""
    }
   },
   "outputs": [],
   "source": [
    "df_clean, df_quarantine = validate_silver_rules(df_parsed, rules, quarantine_rules)\n",
    "df_clean = df_clean.drop(\"quarantine_raw\", \"quarantine_reasons\", \"reasons_str\")"
   ]
  },
  {
   "cell_type": "code",
   "execution_count": 0,
   "metadata": {
    "application/vnd.databricks.v1+cell": {
     "cellMetadata": {
      "byteLimit": 2048000,
      "rowLimit": 10000
     },
     "inputWidgets": {},
     "nuid": "91b19d6a-5a55-46bc-8971-79ddda5cc91e",
     "showTitle": false,
     "tableResultSettingsMap": {},
     "title": ""
    }
   },
   "outputs": [],
   "source": [
    "\n",
    "po_date_null_df = df_clean.filter(col(\"po_date\").isNull()) \\\n",
    "    .withColumn(\"quarantine_raw\", array(lit(\"po_date:null_check\"))) \\\n",
    "    .withColumn(\"quarantine_reasons\", array(lit(\"po_date:null_check\"))) \\\n",
    "    .withColumn(\"reasons_str\", concat_ws(\",\", col(\"quarantine_reasons\")))\n",
    "    \n",
    "df_clean = df_clean.filter(col(\"po_date\").isNotNull())\n",
    "\n",
    "\n",
    "df_quarantine = df_quarantine.unionByName(po_date_null_df)\n",
    "\n",
    "df_clean = df_clean.drop(\"quarantine_raw\", \"quarantine_reasons\", \"reasons_str\", \"payment_terms\")\\\n",
    "                   .withColumn(\"amount_category\", when(col(\"total_amount\") < 1000, \"Low Spend\")\n",
    "                        .when(col(\"total_amount\") < 5000, \"Moderate\")\n",
    "                        .when(col(\"total_amount\") < 10000, \"High\")\n",
    "                        .when(col(\"total_amount\") < 15000, \"Premium\")\n",
    "                        .otherwise(\"Ultra-Premium\"))\\\n",
    "                   .withColumn(\"approval_status\", initcap(lower(col(\"approval_status\"))))\\\n",
    "                   .withColumn(\"year\", month(col(\"po_date\")))\\\n",
    "                   .withColumn(\"month\", month(col(\"po_date\")))\\\n",
    "                   .withColumn(\"day\", dayofmonth(col(\"po_date\")))\\\n",
    "                   .withColumn(\"freight_charges_bucket\", when(col(\"freight_charges\") < 40, \"Low\")\n",
    "                        .when(col(\"freight_charges\") < 80, \"Medium\").otherwise(\"High\"))\\\n",
    "                   .withColumn(\n",
    "                        \"discount_tier\",\n",
    "                        when(col(\"discount_percent\") == 0, \"No Discount\")\n",
    "                        .when((col(\"discount_percent\") > 0) & (col(\"discount_percent\") <= 10), \"Low\")\n",
    "                        .when((col(\"discount_percent\") > 10) & (col(\"discount_percent\") <= 25), \"Moderate\")\n",
    "                        .when((col(\"discount_percent\") > 25) & (col(\"discount_percent\") <= 50), \"High\")\n",
    "                        .when(col(\"discount_percent\") > 50, \"Very High\")\n",
    "                        .otherwise(\"Unknown\")\n",
    "                    )\\\n",
    "                   .withColumn(\n",
    "                        \"priority_tier\",\n",
    "                        when(col(\"priority_level\") == \"Raw Material\", \"High\")\n",
    "                        .when(col(\"priority_level\") == \"Logistics\", \"High\")\n",
    "                        .when(col(\"priority_level\") == \"Utilities\", \"Medium\")\n",
    "                        .when(col(\"priority_level\") == \"Office Supplies\", \"Low\")\n",
    "                        .otherwise(\"Unknown\")\n",
    "                    )\n",
    "                   \n",
    "\n",
    "\n",
    "                    "
   ]
  },
  {
   "cell_type": "code",
   "execution_count": 0,
   "metadata": {
    "application/vnd.databricks.v1+cell": {
     "cellMetadata": {
      "byteLimit": 2048000,
      "rowLimit": 10000
     },
     "inputWidgets": {},
     "nuid": "286cea0b-621e-4466-9088-e09a470a47cc",
     "showTitle": false,
     "tableResultSettingsMap": {},
     "title": ""
    }
   },
   "outputs": [],
   "source": [
    "df_clean = df_clean.withColumn(\n",
    "    \"watermark_column\",\n",
    "    sha2(concat_ws(\"||\", col(\"po_id\").cast(\"string\"), col(\"po_number\"), col(\"po_date\").cast(\"string\")), 256)\n",
    ")"
   ]
  },
  {
   "cell_type": "code",
   "execution_count": 0,
   "metadata": {
    "application/vnd.databricks.v1+cell": {
     "cellMetadata": {
      "byteLimit": 2048000,
      "rowLimit": 10000
     },
     "inputWidgets": {},
     "nuid": "9679927e-8df1-4b92-b66e-fbb76d7b5f0f",
     "showTitle": false,
     "tableResultSettingsMap": {},
     "title": ""
    }
   },
   "outputs": [],
   "source": [
    "catalog_name = config[env][\"catalog\"]\n",
    "silver_table = f\"{catalog_name}.silver.silver_purchase_orders\"\n",
    "silver_quarantine_table = f\"{catalog_name}.silver.silver_purchase_orders_quarantine\"\n",
    "silver_supplier_audit_table = f\"{catalog_name}.silver.silver_purchase_orders_audit\"\n",
    "if spark.catalog.tableExists(silver_table):\n",
    "    existing_df = spark.table(silver_table).select(\"watermark_column\")\n",
    "    df_new = df_clean.join(existing_df, on=\"watermark_column\", how=\"left_anti\")\n",
    "else:\n",
    "    df_new = df_clean\n",
    "\n"
   ]
  },
  {
   "cell_type": "code",
   "execution_count": 0,
   "metadata": {
    "application/vnd.databricks.v1+cell": {
     "cellMetadata": {
      "byteLimit": 2048000,
      "rowLimit": 10000
     },
     "inputWidgets": {},
     "nuid": "e7ab2a11-f925-4ae6-9b7b-07354887e784",
     "showTitle": false,
     "tableResultSettingsMap": {},
     "title": ""
    }
   },
   "outputs": [],
   "source": [
    "df_new.write.format(\"delta\").mode(\"append\").option(\"mergeSchema\", \"true\").saveAsTable(silver_table)\n",
    "df_quarantine.write.format(\"delta\").mode(\"overwrite\").saveAsTable(silver_quarantine_table)\n"
   ]
  },
  {
   "cell_type": "code",
   "execution_count": 0,
   "metadata": {
    "application/vnd.databricks.v1+cell": {
     "cellMetadata": {
      "byteLimit": 2048000,
      "rowLimit": 10000
     },
     "inputWidgets": {},
     "nuid": "d5728ce4-856a-493d-b643-a700c9d9e58e",
     "showTitle": false,
     "tableResultSettingsMap": {},
     "title": ""
    }
   },
   "outputs": [],
   "source": [
    "# %run /Workspace/Users/avadhootd.business@gmail.com/SCM/utils/send_alert_email\n"
   ]
  },
  {
   "cell_type": "code",
   "execution_count": 0,
   "metadata": {
    "application/vnd.databricks.v1+cell": {
     "cellMetadata": {
      "byteLimit": 2048000,
      "rowLimit": 10000
     },
     "inputWidgets": {},
     "nuid": "e0873adf-c52e-4d8c-b94d-61fbbfbde750",
     "showTitle": false,
     "tableResultSettingsMap": {},
     "title": ""
    }
   },
   "outputs": [],
   "source": [
    "# failed_table = config[env][p_file_name][\"failed_target\"]\n",
    "# quarantine_table = config[env][p_file_name][\"quarantine_target\"]"
   ]
  },
  {
   "cell_type": "code",
   "execution_count": 0,
   "metadata": {
    "application/vnd.databricks.v1+cell": {
     "cellMetadata": {
      "byteLimit": 2048000,
      "rowLimit": 10000
     },
     "inputWidgets": {},
     "nuid": "4ff6a1a4-b9ef-4cf1-bf9f-8c1349aa1bb0",
     "showTitle": false,
     "tableResultSettingsMap": {},
     "title": ""
    }
   },
   "outputs": [],
   "source": [
    "# app_password = app_password.strip()\n",
    "\n",
    "# if df_quarantine.count() > 0 or df_failed.count() > 0:\n",
    "#     send_gmail_email(\n",
    "#     app_password=\"qfswthychmohjkim\",\n",
    "#     from_email=\"avadhootdarbhe@gmail.com\",\n",
    "#     to_email=\"avadhootd.in@mouritech.com\",\n",
    "#     tables=[failed_table, quarantine_table]\n",
    "#     )\n"
   ]
  },
  {
   "cell_type": "markdown",
   "metadata": {
    "application/vnd.databricks.v1+cell": {
     "cellMetadata": {
      "byteLimit": 2048000,
      "rowLimit": 10000
     },
     "inputWidgets": {},
     "nuid": "d0dfbb36-a492-441e-8a80-a771608f6cb2",
     "showTitle": false,
     "tableResultSettingsMap": {},
     "title": ""
    }
   },
   "source": [
    "### Audit Logs"
   ]
  },
  {
   "cell_type": "code",
   "execution_count": 0,
   "metadata": {
    "application/vnd.databricks.v1+cell": {
     "cellMetadata": {
      "byteLimit": 2048000,
      "rowLimit": 10000
     },
     "inputWidgets": {},
     "nuid": "3e8ef625-c01e-4eb6-8421-9252c59a2e7d",
     "showTitle": false,
     "tableResultSettingsMap": {},
     "title": ""
    }
   },
   "outputs": [],
   "source": [
    "%run /Workspace/Users/avadhootd.business@gmail.com/sum/SCM/utils/audit_status\n",
    "\n"
   ]
  },
  {
   "cell_type": "code",
   "execution_count": 0,
   "metadata": {
    "application/vnd.databricks.v1+cell": {
     "cellMetadata": {
      "byteLimit": 2048000,
      "rowLimit": 10000
     },
     "inputWidgets": {},
     "nuid": "2e0b5383-17b6-424f-841a-ab178a54b1f9",
     "showTitle": false,
     "tableResultSettingsMap": {},
     "title": ""
    }
   },
   "outputs": [],
   "source": [
    "total = df_parsed.count()\n",
    "passed = df_clean.count()\n",
    "quarantine = df_quarantine.count()\n",
    "\n",
    "status, message = get_audit_status_and_message(total, passed, 0, quarantined=quarantine)\n",
    "\n",
    "print(status, message)\n",
    "print(f\"Total Records: {total}\")\n",
    "print(f\"Passed Records: {passed}\")\n",
    "print(f\"Quarantine Records: {quarantine}\")"
   ]
  },
  {
   "cell_type": "code",
   "execution_count": 0,
   "metadata": {
    "application/vnd.databricks.v1+cell": {
     "cellMetadata": {
      "byteLimit": 2048000,
      "rowLimit": 10000
     },
     "inputWidgets": {},
     "nuid": "4547d6e3-5dbb-4f58-be77-31ca6709c90b",
     "showTitle": false,
     "tableResultSettingsMap": {},
     "title": ""
    }
   },
   "outputs": [],
   "source": [
    "audit_data = [{\n",
    "    \"env\": env,\n",
    "    \"table_name\": silver_tb_name,\n",
    "    \"source_path\": config[env][tb_name][\"pass_target\"],\n",
    "    \"target_path\": silver_table,\n",
    "    \"quarantine_path\": silver_quarantine_table,\n",
    "    \"load_timestamp\": datetime.now(),\n",
    "    \"total_records\": df_parsed.count(),\n",
    "    \"passed_records\": df_clean.count(),\n",
    "    \"quarantine_records\": df_quarantine.count(),\n",
    "    \"status\": status,\n",
    "    \"message\": message\n",
    "}]\n",
    "\n",
    "audit_df = spark.createDataFrame(audit_data, audit_schema)\n",
    "\n",
    "audit_df.write.format(\"delta\").mode(\"append\").saveAsTable(silver_supplier_audit_table)"
   ]
  },
  {
   "cell_type": "markdown",
   "metadata": {
    "application/vnd.databricks.v1+cell": {
     "cellMetadata": {
      "byteLimit": 2048000,
      "rowLimit": 10000
     },
     "inputWidgets": {},
     "nuid": "13e8cab8-3784-4f00-8461-50ffd918e2aa",
     "showTitle": false,
     "tableResultSettingsMap": {},
     "title": ""
    }
   },
   "source": []
  }
 ],
 "metadata": {
  "application/vnd.databricks.v1+notebook": {
   "computePreferences": null,
   "dashboards": [],
   "environmentMetadata": {
    "base_environment": "",
    "environment_version": "2"
   },
   "inputWidgetPreferences": null,
   "language": "python",
   "notebookMetadata": {
    "mostRecentlyExecutedCommandWithImplicitDF": {
     "commandId": 6405901959810410,
     "dataframes": [
      "_sqldf"
     ]
    },
    "pythonIndentUnit": 4
   },
   "notebookName": "silver_purchase_orders",
   "widgets": {
    "app_password": {
     "currentValue": "qfswthychmohjkim",
     "nuid": "4347c33c-4420-464f-b2b9-e413b674cdad",
     "typedWidgetInfo": {
      "autoCreated": false,
      "defaultValue": "qfswthychmohjkim",
      "label": null,
      "name": "app_password",
      "options": {
       "widgetDisplayType": "Text",
       "validationRegex": null
      },
      "parameterDataType": "String"
     },
     "widgetInfo": {
      "widgetType": "text",
      "defaultValue": "qfswthychmohjkim",
      "label": null,
      "name": "app_password",
      "options": {
       "widgetType": "text",
       "autoCreated": null,
       "validationRegex": null
      }
     }
    },
    "env": {
     "currentValue": "dev",
     "nuid": "60bfbb42-d785-4c84-8f44-c1a809b3618c",
     "typedWidgetInfo": {
      "autoCreated": false,
      "defaultValue": "dev",
      "label": null,
      "name": "env",
      "options": {
       "widgetDisplayType": "Text",
       "validationRegex": null
      },
      "parameterDataType": "String"
     },
     "widgetInfo": {
      "widgetType": "text",
      "defaultValue": "dev",
      "label": null,
      "name": "env",
      "options": {
       "widgetType": "text",
       "autoCreated": null,
       "validationRegex": null
      }
     }
    },
    "file_name": {
     "currentValue": "purchase_orders",
     "nuid": "4af90f16-9e10-4bc7-97c7-9b6cbb666d42",
     "typedWidgetInfo": {
      "autoCreated": false,
      "defaultValue": "suppliers_raw",
      "label": null,
      "name": "file_name",
      "options": {
       "widgetDisplayType": "Text",
       "validationRegex": null
      },
      "parameterDataType": "String"
     },
     "widgetInfo": {
      "widgetType": "text",
      "defaultValue": "suppliers_raw",
      "label": null,
      "name": "file_name",
      "options": {
       "widgetType": "text",
       "autoCreated": null,
       "validationRegex": null
      }
     }
    }
   }
  },
  "language_info": {
   "name": "python"
  }
 },
 "nbformat": 4,
 "nbformat_minor": 0
}
