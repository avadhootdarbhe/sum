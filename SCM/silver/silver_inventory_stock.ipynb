{
 "cells": [
  {
   "cell_type": "markdown",
   "metadata": {
    "application/vnd.databricks.v1+cell": {
     "cellMetadata": {
      "byteLimit": 2048000,
      "rowLimit": 10000
     },
     "inputWidgets": {},
     "nuid": "285e82ad-978b-4c86-aa8c-c2e8bdaf3950",
     "showTitle": false,
     "tableResultSettingsMap": {},
     "title": ""
    }
   },
   "source": [
    "### Imports"
   ]
  },
  {
   "cell_type": "code",
   "execution_count": 0,
   "metadata": {
    "application/vnd.databricks.v1+cell": {
     "cellMetadata": {
      "byteLimit": 2048000,
      "rowLimit": 10000
     },
     "inputWidgets": {},
     "nuid": "42be8c63-da3b-401d-9a64-cf1e6f72a90d",
     "showTitle": false,
     "tableResultSettingsMap": {},
     "title": ""
    }
   },
   "outputs": [],
   "source": [
    "from pyspark.sql.functions import *\n",
    "from pyspark.sql.types import *\n",
    "from datetime import datetime\n",
    "import json"
   ]
  },
  {
   "cell_type": "code",
   "execution_count": 0,
   "metadata": {
    "application/vnd.databricks.v1+cell": {
     "cellMetadata": {
      "byteLimit": 2048000,
      "rowLimit": 10000
     },
     "inputWidgets": {},
     "nuid": "351d084f-a621-4cbd-8b20-6967bdeccdb5",
     "showTitle": false,
     "tableResultSettingsMap": {},
     "title": ""
    }
   },
   "outputs": [],
   "source": [
    "tb_name = \"inventory_stock\"\n",
    "silver_tb_name = \"silver_inventory_stock\""
   ]
  },
  {
   "cell_type": "markdown",
   "metadata": {
    "application/vnd.databricks.v1+cell": {
     "cellMetadata": {
      "byteLimit": 2048000,
      "rowLimit": 10000
     },
     "inputWidgets": {},
     "nuid": "71368d4a-9578-41cc-b67e-15b84521bff2",
     "showTitle": false,
     "tableResultSettingsMap": {},
     "title": ""
    }
   },
   "source": [
    "### Read Raw Tables"
   ]
  },
  {
   "cell_type": "code",
   "execution_count": 0,
   "metadata": {
    "application/vnd.databricks.v1+cell": {
     "cellMetadata": {
      "byteLimit": 2048000,
      "rowLimit": 10000
     },
     "inputWidgets": {},
     "nuid": "1c442a51-340b-4243-94f3-da4349d2b96f",
     "showTitle": false,
     "tableResultSettingsMap": {},
     "title": ""
    }
   },
   "outputs": [],
   "source": [
    "inventory_stock_schema = StructType([\n",
    "    StructField(\"inventory_id\", IntegerType(), True),                \n",
    "    StructField(\"item_id\", StringType(), True),          \n",
    "    StructField(\"warehouse_id\", StringType(), True),            \n",
    "    StructField(\"stock_quantity\", IntegerType(), True),              \n",
    "    StructField(\"reorder_level\", IntegerType(), True),             \n",
    "    StructField(\"safety_stock\", IntegerType(), True),         \n",
    "    StructField(\"last_updated\", DateType(), True),        \n",
    "    StructField(\"batch_code\", StringType(), True),      \n",
    "    StructField(\"location_code\", IntegerType(), True),     \n",
    "    StructField(\"is_damaged\", StringType(), True),           \n",
    "    StructField(\"shelf_life_days\", IntegerType(), True),      \n",
    "    StructField(\"temperature_required\", StringType(), True),     \n",
    "    StructField(\"item_condition\", StringType(), True),          \n",
    "    StructField(\"in_transit\", StringType(), True),       \n",
    "    StructField(\"is_available\", StringType(), True)   \n",
    "])\n",
    "\n",
    "audit_schema = StructType([\n",
    "    StructField(\"env\", StringType(), True),\n",
    "    StructField(\"table_name\", StringType(), True),\n",
    "    StructField(\"source_path\", StringType(), True),\n",
    "    StructField(\"target_path\", StringType(), True),\n",
    "    StructField(\"quarantine_path\", StringType(), True),\n",
    "    StructField(\"load_timestamp\", TimestampType(), True),\n",
    "    StructField(\"total_records\", LongType(), True),\n",
    "    StructField(\"passed_records\", LongType(), True),\n",
    "    StructField(\"quarantine_records\", LongType(), True),\n",
    "    StructField(\"status\", StringType(), True),\n",
    "    StructField(\"message\", StringType(), True)\n",
    "])\n",
    "\n"
   ]
  },
  {
   "cell_type": "code",
   "execution_count": 0,
   "metadata": {
    "application/vnd.databricks.v1+cell": {
     "cellMetadata": {
      "byteLimit": 2048000,
      "rowLimit": 10000
     },
     "inputWidgets": {},
     "nuid": "3ef14eed-c89a-46b4-a8cf-d9a68034a9ef",
     "showTitle": false,
     "tableResultSettingsMap": {},
     "title": ""
    }
   },
   "outputs": [],
   "source": [
    "dbutils.widgets.text(\"env\", \"dev\")\n",
    "env = dbutils.widgets.get(\"env\").strip().lower()"
   ]
  },
  {
   "cell_type": "code",
   "execution_count": 0,
   "metadata": {
    "application/vnd.databricks.v1+cell": {
     "cellMetadata": {
      "byteLimit": 2048000,
      "rowLimit": 10000
     },
     "inputWidgets": {},
     "nuid": "a3dbcc77-51e0-4e30-8cd3-5b0ce6e94645",
     "showTitle": false,
     "tableResultSettingsMap": {},
     "title": ""
    }
   },
   "outputs": [],
   "source": [
    "with open(\"/Workspace/Users/avadhootd.business@gmail.com/sum/SCM/config/config.json\", \"r\") as f:\n",
    "    config = json.load(f)"
   ]
  },
  {
   "cell_type": "code",
   "execution_count": 0,
   "metadata": {
    "application/vnd.databricks.v1+cell": {
     "cellMetadata": {
      "byteLimit": 2048000,
      "rowLimit": 10000
     },
     "inputWidgets": {},
     "nuid": "a6597ebb-b655-4962-8ecb-68e9d15ee472",
     "showTitle": false,
     "tableResultSettingsMap": {},
     "title": ""
    }
   },
   "outputs": [],
   "source": [
    "table_name = config[env][tb_name][\"pass_target\"]\n",
    "df_raw = spark.read.table(table_name)"
   ]
  },
  {
   "cell_type": "code",
   "execution_count": 0,
   "metadata": {
    "application/vnd.databricks.v1+cell": {
     "cellMetadata": {
      "byteLimit": 2048000,
      "rowLimit": 10000
     },
     "inputWidgets": {},
     "nuid": "6d4e032e-fbb1-454f-87df-436e60fae457",
     "showTitle": false,
     "tableResultSettingsMap": {},
     "title": ""
    }
   },
   "outputs": [],
   "source": [
    "df_parsed = df_raw \\\n",
    "    .withColumn(\"inventory_id\", when(col(\"inventory_id\").rlike(\"^[0-9]+$\"), col(\"inventory_id\").cast(IntegerType())).otherwise(None)) \\\n",
    "     .withColumn(\"stock_quantity\", when(col(\"stock_quantity\").rlike(\"^[0-9]+$\"), col(\"stock_quantity\").cast(IntegerType())).otherwise(None)) \\\n",
    "     .withColumn(\"reorder_level\", when(col(\"reorder_level\").rlike(\"^[0-9]+$\"), col(\"reorder_level\").cast(IntegerType())).otherwise(None)) \\\n",
    "     .withColumn(\"safety_stock\", when(col(\"safety_stock\").rlike(\"^[0-9]+$\"), col(\"safety_stock\").cast(IntegerType())).otherwise(None)) \\\n",
    "     .withColumn(\"location_code\", when(col(\"location_code\").rlike(\"^[0-9]+$\"), col(\"location_code\").cast(IntegerType())).otherwise(None)) \\\n",
    "     .withColumn(\"shelf_life_days\", when(col(\"shelf_life_days\").rlike(\"^[0-9]+$\"), col(\"shelf_life_days\").cast(IntegerType())).otherwise(None)) \\\n",
    "    .withColumn(\"last_updated\", when(col(\"last_updated\").rlike(\"^[0-9]{4}-[0-9]{2}-[0-9]{2}$\"), col(\"last_updated\").cast(DateType())).otherwise(None)) \\\n",
    "    .withColumn(\"temperature_required\", lower(col(\"temperature_required\")))\\\n",
    "    .withColumn(\"is_damaged\", lower(col(\"is_damaged\")))\\\n",
    "    .withColumn(\"is_available\", lower(col(\"is_available\")))\\\n",
    "    .withColumn(\"in_transit\", lower(col(\"in_transit\")))\\\n",
    "    .drop(\"failed_raw\", \"failed_reasons\", \"all_reasons\")\n"
   ]
  },
  {
   "cell_type": "markdown",
   "metadata": {
    "application/vnd.databricks.v1+cell": {
     "cellMetadata": {
      "byteLimit": 2048000,
      "rowLimit": 10000
     },
     "inputWidgets": {},
     "nuid": "d5b29bba-ed8d-4e48-8d31-df564fcd8f41",
     "showTitle": false,
     "tableResultSettingsMap": {},
     "title": ""
    }
   },
   "source": [
    "### Load DQ rules"
   ]
  },
  {
   "cell_type": "code",
   "execution_count": 0,
   "metadata": {
    "application/vnd.databricks.v1+cell": {
     "cellMetadata": {
      "byteLimit": 2048000,
      "rowLimit": 10000
     },
     "inputWidgets": {},
     "nuid": "a6c5fa01-3488-4c9b-926c-261652c29a61",
     "showTitle": false,
     "tableResultSettingsMap": {},
     "title": ""
    }
   },
   "outputs": [],
   "source": [
    "with open(\"/Workspace/Users/avadhootd.business@gmail.com/sum/SCM/config/dq_rules.json\", \"r\") as f:\n",
    "    dq_config = json.load(f)\n",
    "rules = dq_config.get(tb_name, {}).get(\"silver_rules\", {})\n",
    "quarantine_rules = dq_config.get(tb_name, {}).get(\"quarantine_rules\", [])"
   ]
  },
  {
   "cell_type": "code",
   "execution_count": 0,
   "metadata": {
    "application/vnd.databricks.v1+cell": {
     "cellMetadata": {
      "byteLimit": 2048000,
      "rowLimit": 10000
     },
     "inputWidgets": {},
     "nuid": "bfe733ef-db20-43e1-be09-796780c4d3c7",
     "showTitle": false,
     "tableResultSettingsMap": {},
     "title": ""
    }
   },
   "outputs": [],
   "source": [
    "%run /Workspace/Users/avadhootd.business@gmail.com/sum/SCM/utils/bronze_rule_validation"
   ]
  },
  {
   "cell_type": "code",
   "execution_count": 0,
   "metadata": {
    "application/vnd.databricks.v1+cell": {
     "cellMetadata": {
      "byteLimit": 2048000,
      "rowLimit": 10000
     },
     "inputWidgets": {},
     "nuid": "adaa4ae6-86a0-422b-824b-2b08a1c1eb9b",
     "showTitle": false,
     "tableResultSettingsMap": {},
     "title": ""
    }
   },
   "outputs": [],
   "source": [
    "df_clean, df_quarantine = validate_silver_rules(df_parsed, rules, quarantine_rules)\n",
    "df_clean = df_clean.drop(\"quarantine_raw\", \"quarantine_reasons\", \"reasons_str\")\n"
   ]
  },
  {
   "cell_type": "code",
   "execution_count": 0,
   "metadata": {
    "application/vnd.databricks.v1+cell": {
     "cellMetadata": {
      "byteLimit": 2048000,
      "rowLimit": 10000
     },
     "inputWidgets": {},
     "nuid": "91b19d6a-5a55-46bc-8971-79ddda5cc91e",
     "showTitle": false,
     "tableResultSettingsMap": {},
     "title": ""
    }
   },
   "outputs": [],
   "source": [
    "df_clean = df_clean.drop(\"quarantine_raw\", \"quarantine_reasons\", \"reasons_str\", \"batch_code\")\\\n",
    "                   .withColumn(\n",
    "                         \"stock_category\",\n",
    "                         when(col(\"stock_quantity\") >= 4000, \"High Stock\")\n",
    "                         .when((col(\"stock_quantity\") >= 2000) & (col(\"stock_quantity\") < 4000), \"Moderate Stock\")\n",
    "                         .when((col(\"stock_quantity\") >= 1) & (col(\"stock_quantity\") < 2000), \"Low Stock\")\n",
    "                         .otherwise(\"Invalid or Zero\")\n",
    "                    )\\\n",
    "                    .withColumn(\n",
    "                         \"reorder_urgency\",\n",
    "                         when(col(\"reorder_level\") < 80, \"Critical\")\n",
    "                         .when((col(\"reorder_level\") >= 80) & (col(\"reorder_level\") < 150), \"Moderate\")\n",
    "                         .when(col(\"reorder_level\") >= 150, \"Safe\")\n",
    "                         .otherwise(\"Unknown\")\n",
    "                    )\\\n",
    "                    .withColumn(\n",
    "                         \"safety_stock_level\",\n",
    "                         when(col(\"safety_stock\") < 10, \"Critical\")\n",
    "                         .when((col(\"safety_stock\") >= 10) & (col(\"safety_stock\") < 50), \"Low\")\n",
    "                         .when(col(\"safety_stock\") >= 50, \"Adequate\")\n",
    "                         .otherwise(\"Unknown\")\n",
    "                    )\\\n",
    "                   .withColumn(\"year\", month(col(\"last_updated\")))\\\n",
    "                   .withColumn(\"month\", month(col(\"last_updated\")))\\\n",
    "                   .withColumn(\"day\", dayofmonth(col(\"last_updated\")))\\\n",
    "                   .withColumn(\n",
    "                         \"shelf_life_category\",\n",
    "                         when(col(\"shelf_life_days\") <= 180, \"Short-Term\")\n",
    "                         .when(col(\"shelf_life_days\").between(181, 365), \"Medium-Term\")\n",
    "                         .when(col(\"shelf_life_days\") > 365, \"Long-Term\")\n",
    "                         .otherwise(\"Unknown\"))\\\n",
    "                   .withColumn(\n",
    "                         \"temperature_required\",\n",
    "                         when(lower(col(\"temperature_required\")) == \"room temp\", \"Room Temperature\")\n",
    "                         .when(lower(col(\"temperature_required\")) == \"ambient\", \"Ambient\")\n",
    "                         .when(lower(col(\"temperature_required\")) == \"cold\", \"Cold\")\n",
    "                         .when(lower(col(\"temperature_required\")) == \"frozen\", \"Frozen\")\n",
    "                         .otherwise(\"Unknown\"))\\\n",
    "                   .withColumn(\n",
    "                         \"item_condition\",\n",
    "                         when(lower(col(\"item_condition\")) == \"new\", \"New\")\n",
    "                         .when(lower(col(\"item_condition\")) == \"used\", \"Used\")\n",
    "                         .otherwise(\"Unknown\"))\\\n",
    "                   .withColumn(\n",
    "                         \"is_damaged\",\n",
    "                         when(lower(col(\"is_damaged\")).isin(\"yes\", \"y\"), \"Yes\")\n",
    "                         .when(lower(col(\"is_damaged\")).isin(\"no\", \"n\"), \"No\")\n",
    "                         .otherwise(\"Unknown\"))\\\n",
    "                   .withColumn(\n",
    "                         \"in_transit\",\n",
    "                         when(lower(col(\"in_transit\")).isin(\"yes\", \"y\"), \"Yes\")\n",
    "                         .when(lower(col(\"in_transit\")).isin(\"no\", \"n\"), \"No\")\n",
    "                         .otherwise(\"Unknown\"))\\\n",
    "                   .withColumn(\n",
    "                         \"is_available\",\n",
    "                         when(lower(col(\"is_available\")).isin(\"yes\", \"y\"), \"Yes\")\n",
    "                         .when(lower(col(\"is_available\")).isin(\"no\", \"n\"), \"No\")\n",
    "                         .otherwise(\"Unknown\"))"
   ]
  },
  {
   "cell_type": "code",
   "execution_count": 0,
   "metadata": {
    "application/vnd.databricks.v1+cell": {
     "cellMetadata": {
      "byteLimit": 2048000,
      "rowLimit": 10000
     },
     "inputWidgets": {},
     "nuid": "286cea0b-621e-4466-9088-e09a470a47cc",
     "showTitle": false,
     "tableResultSettingsMap": {},
     "title": ""
    }
   },
   "outputs": [],
   "source": [
    "df_clean = df_clean.withColumn(\n",
    "    \"watermark_column\",\n",
    "    sha2(concat_ws(\"||\", col(\"inventory_id\").cast(\"string\"), col(\"item_id\"), col(\"last_updated\").cast(\"string\")), 256)\n",
    ")"
   ]
  },
  {
   "cell_type": "code",
   "execution_count": 0,
   "metadata": {
    "application/vnd.databricks.v1+cell": {
     "cellMetadata": {
      "byteLimit": 2048000,
      "rowLimit": 10000
     },
     "inputWidgets": {},
     "nuid": "9679927e-8df1-4b92-b66e-fbb76d7b5f0f",
     "showTitle": false,
     "tableResultSettingsMap": {},
     "title": ""
    }
   },
   "outputs": [],
   "source": [
    "catalog_name = config[env][\"catalog\"]\n",
    "silver_table = f\"{catalog_name}.silver.silver_inventory_stock\"\n",
    "silver_quarantine_table = f\"{catalog_name}.silver.silver_inventory_stock_quarantine\"\n",
    "silver_supplier_audit_table = f\"{catalog_name}.silver.silver_inventory_stock_audit\"\n",
    "if spark.catalog.tableExists(silver_table):\n",
    "    existing_df = spark.table(silver_table).select(\"watermark_column\")\n",
    "    df_new = df_clean.join(existing_df, on=\"watermark_column\", how=\"left_anti\")\n",
    "else:\n",
    "    df_new = df_clean\n",
    "\n"
   ]
  },
  {
   "cell_type": "code",
   "execution_count": 0,
   "metadata": {
    "application/vnd.databricks.v1+cell": {
     "cellMetadata": {
      "byteLimit": 2048000,
      "rowLimit": 10000
     },
     "inputWidgets": {},
     "nuid": "e7ab2a11-f925-4ae6-9b7b-07354887e784",
     "showTitle": false,
     "tableResultSettingsMap": {},
     "title": ""
    }
   },
   "outputs": [],
   "source": [
    "df_new.write.format(\"delta\").mode(\"append\").option(\"mergeSchema\", \"true\").saveAsTable(silver_table)\n",
    "df_quarantine.write.format(\"delta\").mode(\"overwrite\").saveAsTable(silver_quarantine_table)\n"
   ]
  },
  {
   "cell_type": "code",
   "execution_count": 0,
   "metadata": {
    "application/vnd.databricks.v1+cell": {
     "cellMetadata": {
      "byteLimit": 2048000,
      "rowLimit": 10000
     },
     "inputWidgets": {},
     "nuid": "d5728ce4-856a-493d-b643-a700c9d9e58e",
     "showTitle": false,
     "tableResultSettingsMap": {},
     "title": ""
    }
   },
   "outputs": [],
   "source": [
    "# %run /Workspace/Users/avadhootd.business@gmail.com/SCM/utils/send_alert_email\n"
   ]
  },
  {
   "cell_type": "code",
   "execution_count": 0,
   "metadata": {
    "application/vnd.databricks.v1+cell": {
     "cellMetadata": {
      "byteLimit": 2048000,
      "rowLimit": 10000
     },
     "inputWidgets": {},
     "nuid": "e0873adf-c52e-4d8c-b94d-61fbbfbde750",
     "showTitle": false,
     "tableResultSettingsMap": {},
     "title": ""
    }
   },
   "outputs": [],
   "source": [
    "# failed_table = config[env][p_file_name][\"failed_target\"]\n",
    "# quarantine_table = config[env][p_file_name][\"quarantine_target\"]"
   ]
  },
  {
   "cell_type": "code",
   "execution_count": 0,
   "metadata": {
    "application/vnd.databricks.v1+cell": {
     "cellMetadata": {
      "byteLimit": 2048000,
      "rowLimit": 10000
     },
     "inputWidgets": {},
     "nuid": "4ff6a1a4-b9ef-4cf1-bf9f-8c1349aa1bb0",
     "showTitle": false,
     "tableResultSettingsMap": {},
     "title": ""
    }
   },
   "outputs": [],
   "source": [
    "# app_password = app_password.strip()\n",
    "\n",
    "# if df_quarantine.count() > 0 or df_failed.count() > 0:\n",
    "#     send_gmail_email(\n",
    "#     app_password=\"qfswthychmohjkim\",\n",
    "#     from_email=\"avadhootdarbhe@gmail.com\",\n",
    "#     to_email=\"avadhootd.in@mouritech.com\",\n",
    "#     tables=[failed_table, quarantine_table]\n",
    "#     )\n"
   ]
  },
  {
   "cell_type": "markdown",
   "metadata": {
    "application/vnd.databricks.v1+cell": {
     "cellMetadata": {
      "byteLimit": 2048000,
      "rowLimit": 10000
     },
     "inputWidgets": {},
     "nuid": "d0dfbb36-a492-441e-8a80-a771608f6cb2",
     "showTitle": false,
     "tableResultSettingsMap": {},
     "title": ""
    }
   },
   "source": [
    "### Audit Logs"
   ]
  },
  {
   "cell_type": "code",
   "execution_count": 0,
   "metadata": {
    "application/vnd.databricks.v1+cell": {
     "cellMetadata": {
      "byteLimit": 2048000,
      "rowLimit": 10000
     },
     "inputWidgets": {},
     "nuid": "3e8ef625-c01e-4eb6-8421-9252c59a2e7d",
     "showTitle": false,
     "tableResultSettingsMap": {},
     "title": ""
    }
   },
   "outputs": [],
   "source": [
    "%run /Workspace/Users/avadhootd.business@gmail.com/sum/SCM/utils/audit_status\n",
    "\n"
   ]
  },
  {
   "cell_type": "code",
   "execution_count": 0,
   "metadata": {
    "application/vnd.databricks.v1+cell": {
     "cellMetadata": {
      "byteLimit": 2048000,
      "rowLimit": 10000
     },
     "inputWidgets": {},
     "nuid": "2e0b5383-17b6-424f-841a-ab178a54b1f9",
     "showTitle": false,
     "tableResultSettingsMap": {},
     "title": ""
    }
   },
   "outputs": [],
   "source": [
    "total = df_parsed.count()\n",
    "passed = df_clean.count()\n",
    "quarantine = df_quarantine.count()\n",
    "\n",
    "status, message = get_audit_status_and_message(total, passed, 0, quarantined=quarantine)\n",
    "\n",
    "print(status, message)\n",
    "print(f\"Total Records: {total}\")\n",
    "print(f\"Passed Records: {passed}\")\n",
    "print(f\"Quarantine Records: {quarantine}\")"
   ]
  },
  {
   "cell_type": "code",
   "execution_count": 0,
   "metadata": {
    "application/vnd.databricks.v1+cell": {
     "cellMetadata": {
      "byteLimit": 2048000,
      "rowLimit": 10000
     },
     "inputWidgets": {},
     "nuid": "4547d6e3-5dbb-4f58-be77-31ca6709c90b",
     "showTitle": false,
     "tableResultSettingsMap": {},
     "title": ""
    }
   },
   "outputs": [],
   "source": [
    "audit_data = [{\n",
    "    \"env\": env,\n",
    "    \"table_name\": silver_tb_name,\n",
    "    \"source_path\": config[env][tb_name][\"pass_target\"],\n",
    "    \"target_path\": silver_table,\n",
    "    \"quarantine_path\": silver_quarantine_table,\n",
    "    \"load_timestamp\": datetime.now(),\n",
    "    \"total_records\": df_parsed.count(),\n",
    "    \"passed_records\": df_clean.count(),\n",
    "    \"quarantine_records\": df_quarantine.count(),\n",
    "    \"status\": status,\n",
    "    \"message\": message\n",
    "}]\n",
    "\n",
    "audit_df = spark.createDataFrame(audit_data, audit_schema)\n",
    "\n",
    "audit_df.write.format(\"delta\").mode(\"append\").saveAsTable(silver_supplier_audit_table)"
   ]
  },
  {
   "cell_type": "markdown",
   "metadata": {
    "application/vnd.databricks.v1+cell": {
     "cellMetadata": {
      "byteLimit": 2048000,
      "rowLimit": 10000
     },
     "inputWidgets": {},
     "nuid": "13e8cab8-3784-4f00-8461-50ffd918e2aa",
     "showTitle": false,
     "tableResultSettingsMap": {},
     "title": ""
    }
   },
   "source": []
  }
 ],
 "metadata": {
  "application/vnd.databricks.v1+notebook": {
   "computePreferences": null,
   "dashboards": [],
   "environmentMetadata": {
    "base_environment": "",
    "environment_version": "2"
   },
   "inputWidgetPreferences": null,
   "language": "python",
   "notebookMetadata": {
    "mostRecentlyExecutedCommandWithImplicitDF": {
     "commandId": 6405901959810410,
     "dataframes": [
      "_sqldf"
     ]
    },
    "pythonIndentUnit": 4
   },
   "notebookName": "silver_inventory_stock",
   "widgets": {
    "app_password": {
     "currentValue": "qfswthychmohjkim",
     "nuid": "4347c33c-4420-464f-b2b9-e413b674cdad",
     "typedWidgetInfo": {
      "autoCreated": false,
      "defaultValue": "qfswthychmohjkim",
      "label": null,
      "name": "app_password",
      "options": {
       "widgetDisplayType": "Text",
       "validationRegex": null
      },
      "parameterDataType": "String"
     },
     "widgetInfo": {
      "widgetType": "text",
      "defaultValue": "qfswthychmohjkim",
      "label": null,
      "name": "app_password",
      "options": {
       "widgetType": "text",
       "autoCreated": null,
       "validationRegex": null
      }
     }
    },
    "env": {
     "currentValue": "dev",
     "nuid": "60bfbb42-d785-4c84-8f44-c1a809b3618c",
     "typedWidgetInfo": {
      "autoCreated": false,
      "defaultValue": "dev",
      "label": null,
      "name": "env",
      "options": {
       "widgetDisplayType": "Text",
       "validationRegex": null
      },
      "parameterDataType": "String"
     },
     "widgetInfo": {
      "widgetType": "text",
      "defaultValue": "dev",
      "label": null,
      "name": "env",
      "options": {
       "widgetType": "text",
       "autoCreated": null,
       "validationRegex": null
      }
     }
    },
    "file_name": {
     "currentValue": "purchase_orders",
     "nuid": "4af90f16-9e10-4bc7-97c7-9b6cbb666d42",
     "typedWidgetInfo": {
      "autoCreated": false,
      "defaultValue": "suppliers_raw",
      "label": null,
      "name": "file_name",
      "options": {
       "widgetDisplayType": "Text",
       "validationRegex": null
      },
      "parameterDataType": "String"
     },
     "widgetInfo": {
      "widgetType": "text",
      "defaultValue": "suppliers_raw",
      "label": null,
      "name": "file_name",
      "options": {
       "widgetType": "text",
       "autoCreated": null,
       "validationRegex": null
      }
     }
    }
   }
  },
  "language_info": {
   "name": "python"
  }
 },
 "nbformat": 4,
 "nbformat_minor": 0
}
